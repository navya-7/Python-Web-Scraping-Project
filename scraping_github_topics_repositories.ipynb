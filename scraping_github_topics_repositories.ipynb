{
  "cells": [
    {
      "cell_type": "code",
      "execution_count": 217,
      "metadata": {
        "id": "WNeWEDcudUQs"
      },
      "outputs": [],
      "source": [
        "# Jovian Commit Essentials\n",
        "# Please retain and execute this cell without modifying the contents for `jovian.commit` to work\n",
        "!pip install jovian --upgrade -q\n",
        "import jovian\n",
        "jovian.set_project('scraping-github-topics-repositories')\n",
        "jovian.set_colab_id('1xZ-JcAEHO-2Fe2J4ZzSQtCwJETuJiu6y')"
      ]
    },
    {
      "cell_type": "markdown",
      "metadata": {
        "id": "lm7-vy--dUQv"
      },
      "source": [
        "#Top Repositories for GitHub Topics\n"
      ]
    },
    {
      "cell_type": "markdown",
      "source": [
        "###Pick a website and describe your objective\n",
        "\n",
        "- Browse through different sites and pick on to scrape. Check the \"Project Ideas\" section for inspiration.\n",
        "\n",
        "- Identify the information you'd like to scrape from the site. Decide the format of the output CSV file.\n",
        "\n",
        "- Summarize your project idea and outline your strategy in a Juptyer notebook. Use the \"New\" button above."
      ],
      "metadata": {
        "id": "cTRIky5Hd6bx"
      }
    },
    {
      "cell_type": "markdown",
      "source": [
        "####Project Outline\n",
        "\n",
        "- We are going to scrape https://github.com/topics\n",
        "\n",
        "- we'll get a list of topics.For each topic, we'll get topic title, topic page URL and topic description\n",
        "\n",
        "- For each topic we'll get top 25 repositories in the topic from the topic page\n",
        "\n",
        "- For each repository,we'll grab the repo name, username, stars and repo url.\n",
        "\n",
        "- For each topic we'll create a csv file in the following format:\n",
        "\n",
        "Repo Name, Username, Stars , Repo URL"
      ],
      "metadata": {
        "id": "FMVeiV45geSf"
      }
    },
    {
      "cell_type": "markdown",
      "source": [
        "####Use the requests library to download web pages"
      ],
      "metadata": {
        "id": "Xruxtjylhgb6"
      }
    },
    {
      "cell_type": "code",
      "execution_count": 218,
      "metadata": {
        "id": "gHqNOFXYdUQy"
      },
      "outputs": [],
      "source": [
        " !pip install requests --upgrade --quiet"
      ]
    },
    {
      "cell_type": "code",
      "source": [
        "import requests"
      ],
      "metadata": {
        "id": "YtMNpUGEiQje"
      },
      "execution_count": 219,
      "outputs": []
    },
    {
      "cell_type": "code",
      "source": [
        "topics_url ='https://github.com/topics'"
      ],
      "metadata": {
        "id": "DxId_IawiQgL"
      },
      "execution_count": 220,
      "outputs": []
    },
    {
      "cell_type": "code",
      "source": [
        "response = requests.get(topics_url)"
      ],
      "metadata": {
        "id": "JcOGy-9niQdW"
      },
      "execution_count": 221,
      "outputs": []
    },
    {
      "cell_type": "code",
      "source": [
        "response.status_code"
      ],
      "metadata": {
        "colab": {
          "base_uri": "https://localhost:8080/"
        },
        "id": "plIsHV6viQaN",
        "outputId": "f93b445c-0d5b-4575-8708-867ce70e8628"
      },
      "execution_count": 222,
      "outputs": [
        {
          "output_type": "execute_result",
          "data": {
            "text/plain": [
              "200"
            ]
          },
          "metadata": {},
          "execution_count": 222
        }
      ]
    },
    {
      "cell_type": "code",
      "source": [
        "len(response.text)"
      ],
      "metadata": {
        "colab": {
          "base_uri": "https://localhost:8080/"
        },
        "id": "mTAOmAHciQW1",
        "outputId": "0959bc90-ac03-4383-df62-5da2d945be33"
      },
      "execution_count": 223,
      "outputs": [
        {
          "output_type": "execute_result",
          "data": {
            "text/plain": [
              "140322"
            ]
          },
          "metadata": {},
          "execution_count": 223
        }
      ]
    },
    {
      "cell_type": "code",
      "source": [
        "page_contents = response.text"
      ],
      "metadata": {
        "id": "7vNTP-CkiQUD"
      },
      "execution_count": 224,
      "outputs": []
    },
    {
      "cell_type": "code",
      "source": [
        "page_contents [:1000]"
      ],
      "metadata": {
        "colab": {
          "base_uri": "https://localhost:8080/",
          "height": 140
        },
        "id": "yNzgdeq4iQQs",
        "outputId": "12aa57a9-bf02-4cb6-9852-37a35252e774"
      },
      "execution_count": 225,
      "outputs": [
        {
          "output_type": "execute_result",
          "data": {
            "text/plain": [
              "'\\n\\n<!DOCTYPE html>\\n<html lang=\"en\" data-color-mode=\"auto\" data-light-theme=\"light\" data-dark-theme=\"dark\" data-a11y-animated-images=\"system\">\\n  <head>\\n    <meta charset=\"utf-8\">\\n  <link rel=\"dns-prefetch\" href=\"https://github.githubassets.com\">\\n  <link rel=\"dns-prefetch\" href=\"https://avatars.githubusercontent.com\">\\n  <link rel=\"dns-prefetch\" href=\"https://github-cloud.s3.amazonaws.com\">\\n  <link rel=\"dns-prefetch\" href=\"https://user-images.githubusercontent.com/\">\\n  <link rel=\"preconnect\" href=\"https://github.githubassets.com\" crossorigin>\\n  <link rel=\"preconnect\" href=\"https://avatars.githubusercontent.com\">\\n\\n\\n\\n  <link crossorigin=\"anonymous\" media=\"all\" rel=\"stylesheet\" href=\"https://github.githubassets.com/assets/light-5178aee0ee76.css\" /><link crossorigin=\"anonymous\" media=\"all\" rel=\"stylesheet\" href=\"https://github.githubassets.com/assets/dark-217d4f9c8e70.css\" /><link data-color-theme=\"dark_dimmed\" crossorigin=\"anonymous\" media=\"all\" rel=\"stylesheet\" data-href=\"https://github.gith'"
            ],
            "application/vnd.google.colaboratory.intrinsic+json": {
              "type": "string"
            }
          },
          "metadata": {},
          "execution_count": 225
        }
      ]
    },
    {
      "cell_type": "code",
      "source": [
        "with open('webpage.html', 'w') as f:\n",
        "  f.write(page_contents)"
      ],
      "metadata": {
        "id": "j9NEI-LHiQNt"
      },
      "execution_count": 226,
      "outputs": []
    },
    {
      "cell_type": "markdown",
      "source": [
        "###Use Beautiful Soup to parse and extract information"
      ],
      "metadata": {
        "id": "HWUlq597p_gq"
      }
    },
    {
      "cell_type": "code",
      "source": [
        "!pip install beautifulsoup4 --upgrade --quiet"
      ],
      "metadata": {
        "id": "PaGQYRcfiQKi"
      },
      "execution_count": 227,
      "outputs": []
    },
    {
      "cell_type": "code",
      "source": [
        "from bs4 import BeautifulSoup"
      ],
      "metadata": {
        "id": "xkrUZ_hbiQHJ"
      },
      "execution_count": 228,
      "outputs": []
    },
    {
      "cell_type": "code",
      "source": [
        "!pip install html.parse"
      ],
      "metadata": {
        "colab": {
          "base_uri": "https://localhost:8080/"
        },
        "id": "57npFhcRiQEk",
        "outputId": "6f576fc0-9d70-4845-8448-5fbb96bb5b9e"
      },
      "execution_count": 229,
      "outputs": [
        {
          "output_type": "stream",
          "name": "stdout",
          "text": [
            "Looking in indexes: https://pypi.org/simple, https://us-python.pkg.dev/colab-wheels/public/simple/\n",
            "Requirement already satisfied: html.parse in /usr/local/lib/python3.7/dist-packages (0.0.3)\n",
            "Requirement already satisfied: pandas==1.1.2 in /usr/local/lib/python3.7/dist-packages (from html.parse) (1.1.2)\n",
            "Requirement already satisfied: pytz>=2017.2 in /usr/local/lib/python3.7/dist-packages (from pandas==1.1.2->html.parse) (2022.2.1)\n",
            "Requirement already satisfied: numpy>=1.15.4 in /usr/local/lib/python3.7/dist-packages (from pandas==1.1.2->html.parse) (1.21.6)\n",
            "Requirement already satisfied: python-dateutil>=2.7.3 in /usr/local/lib/python3.7/dist-packages (from pandas==1.1.2->html.parse) (2.8.2)\n",
            "Requirement already satisfied: six>=1.5 in /usr/local/lib/python3.7/dist-packages (from python-dateutil>=2.7.3->pandas==1.1.2->html.parse) (1.15.0)\n"
          ]
        }
      ]
    },
    {
      "cell_type": "code",
      "source": [
        "doc =BeautifulSoup(page_contents, 'html5lib')"
      ],
      "metadata": {
        "id": "BIedEC8biQB2"
      },
      "execution_count": 230,
      "outputs": []
    },
    {
      "cell_type": "code",
      "source": [
        "type(doc)"
      ],
      "metadata": {
        "colab": {
          "base_uri": "https://localhost:8080/"
        },
        "id": "BXotgHCoiP-3",
        "outputId": "a168b391-35f0-4e80-d098-0bd80eb67688"
      },
      "execution_count": 231,
      "outputs": [
        {
          "output_type": "execute_result",
          "data": {
            "text/plain": [
              "bs4.BeautifulSoup"
            ]
          },
          "metadata": {},
          "execution_count": 231
        }
      ]
    },
    {
      "cell_type": "code",
      "source": [
        "selection_class = 'f3 lh-condensed mb-0 mt-1 Link--primary'\n",
        "topic_title_tags =doc.find_all('p',{'class' :selection_class})"
      ],
      "metadata": {
        "id": "99poFnD3iP8A"
      },
      "execution_count": 232,
      "outputs": []
    },
    {
      "cell_type": "code",
      "source": [
        "len(topic_title_tags)"
      ],
      "metadata": {
        "colab": {
          "base_uri": "https://localhost:8080/"
        },
        "id": "LqVcTa5ZiP5H",
        "outputId": "b6214001-1ed4-4f7c-de66-ac3ca26d1d9a"
      },
      "execution_count": 233,
      "outputs": [
        {
          "output_type": "execute_result",
          "data": {
            "text/plain": [
              "30"
            ]
          },
          "metadata": {},
          "execution_count": 233
        }
      ]
    },
    {
      "cell_type": "code",
      "source": [
        "topic_title_tags"
      ],
      "metadata": {
        "colab": {
          "base_uri": "https://localhost:8080/"
        },
        "id": "FWXOdHyRiP2D",
        "outputId": "cab54898-79be-4a22-ca11-b29133746154"
      },
      "execution_count": 234,
      "outputs": [
        {
          "output_type": "execute_result",
          "data": {
            "text/plain": [
              "[<p class=\"f3 lh-condensed mb-0 mt-1 Link--primary\">3D</p>,\n",
              " <p class=\"f3 lh-condensed mb-0 mt-1 Link--primary\">Ajax</p>,\n",
              " <p class=\"f3 lh-condensed mb-0 mt-1 Link--primary\">Algorithm</p>,\n",
              " <p class=\"f3 lh-condensed mb-0 mt-1 Link--primary\">Amp</p>,\n",
              " <p class=\"f3 lh-condensed mb-0 mt-1 Link--primary\">Android</p>,\n",
              " <p class=\"f3 lh-condensed mb-0 mt-1 Link--primary\">Angular</p>,\n",
              " <p class=\"f3 lh-condensed mb-0 mt-1 Link--primary\">Ansible</p>,\n",
              " <p class=\"f3 lh-condensed mb-0 mt-1 Link--primary\">API</p>,\n",
              " <p class=\"f3 lh-condensed mb-0 mt-1 Link--primary\">Arduino</p>,\n",
              " <p class=\"f3 lh-condensed mb-0 mt-1 Link--primary\">ASP.NET</p>,\n",
              " <p class=\"f3 lh-condensed mb-0 mt-1 Link--primary\">Atom</p>,\n",
              " <p class=\"f3 lh-condensed mb-0 mt-1 Link--primary\">Awesome Lists</p>,\n",
              " <p class=\"f3 lh-condensed mb-0 mt-1 Link--primary\">Amazon Web Services</p>,\n",
              " <p class=\"f3 lh-condensed mb-0 mt-1 Link--primary\">Azure</p>,\n",
              " <p class=\"f3 lh-condensed mb-0 mt-1 Link--primary\">Babel</p>,\n",
              " <p class=\"f3 lh-condensed mb-0 mt-1 Link--primary\">Bash</p>,\n",
              " <p class=\"f3 lh-condensed mb-0 mt-1 Link--primary\">Bitcoin</p>,\n",
              " <p class=\"f3 lh-condensed mb-0 mt-1 Link--primary\">Bootstrap</p>,\n",
              " <p class=\"f3 lh-condensed mb-0 mt-1 Link--primary\">Bot</p>,\n",
              " <p class=\"f3 lh-condensed mb-0 mt-1 Link--primary\">C</p>,\n",
              " <p class=\"f3 lh-condensed mb-0 mt-1 Link--primary\">Chrome</p>,\n",
              " <p class=\"f3 lh-condensed mb-0 mt-1 Link--primary\">Chrome extension</p>,\n",
              " <p class=\"f3 lh-condensed mb-0 mt-1 Link--primary\">Command line interface</p>,\n",
              " <p class=\"f3 lh-condensed mb-0 mt-1 Link--primary\">Clojure</p>,\n",
              " <p class=\"f3 lh-condensed mb-0 mt-1 Link--primary\">Code quality</p>,\n",
              " <p class=\"f3 lh-condensed mb-0 mt-1 Link--primary\">Code review</p>,\n",
              " <p class=\"f3 lh-condensed mb-0 mt-1 Link--primary\">Compiler</p>,\n",
              " <p class=\"f3 lh-condensed mb-0 mt-1 Link--primary\">Continuous integration</p>,\n",
              " <p class=\"f3 lh-condensed mb-0 mt-1 Link--primary\">COVID-19</p>,\n",
              " <p class=\"f3 lh-condensed mb-0 mt-1 Link--primary\">C++</p>]"
            ]
          },
          "metadata": {},
          "execution_count": 234
        }
      ]
    },
    {
      "cell_type": "code",
      "source": [
        "topic_title_tags[:5]"
      ],
      "metadata": {
        "colab": {
          "base_uri": "https://localhost:8080/"
        },
        "id": "tOunCF-7iPzQ",
        "outputId": "d3cfebd1-84d3-4e14-fd74-046f14ee5f37"
      },
      "execution_count": 235,
      "outputs": [
        {
          "output_type": "execute_result",
          "data": {
            "text/plain": [
              "[<p class=\"f3 lh-condensed mb-0 mt-1 Link--primary\">3D</p>,\n",
              " <p class=\"f3 lh-condensed mb-0 mt-1 Link--primary\">Ajax</p>,\n",
              " <p class=\"f3 lh-condensed mb-0 mt-1 Link--primary\">Algorithm</p>,\n",
              " <p class=\"f3 lh-condensed mb-0 mt-1 Link--primary\">Amp</p>,\n",
              " <p class=\"f3 lh-condensed mb-0 mt-1 Link--primary\">Android</p>]"
            ]
          },
          "metadata": {},
          "execution_count": 235
        }
      ]
    },
    {
      "cell_type": "code",
      "source": [
        "desc_selector ='f5 color-fg-muted mb-0 mt-1'\n",
        "topic_desc_tags =doc.find_all('p', {'class' :desc_selector})"
      ],
      "metadata": {
        "id": "XPaFdv97iPwF"
      },
      "execution_count": 236,
      "outputs": []
    },
    {
      "cell_type": "code",
      "source": [
        "topic_desc_tags[:5]"
      ],
      "metadata": {
        "colab": {
          "base_uri": "https://localhost:8080/"
        },
        "id": "tSTfXHbziPtZ",
        "outputId": "3a6114b4-c2e1-4fe0-cc6b-39f28329abdf"
      },
      "execution_count": 237,
      "outputs": [
        {
          "output_type": "execute_result",
          "data": {
            "text/plain": [
              "[<p class=\"f5 color-fg-muted mb-0 mt-1\">\n",
              "           3D modeling is the process of virtually developing the surface and structure of a 3D object.\n",
              "         </p>, <p class=\"f5 color-fg-muted mb-0 mt-1\">\n",
              "           Ajax is a technique for creating interactive web applications.\n",
              "         </p>, <p class=\"f5 color-fg-muted mb-0 mt-1\">\n",
              "           Algorithms are self-contained sequences that carry out a variety of tasks.\n",
              "         </p>, <p class=\"f5 color-fg-muted mb-0 mt-1\">\n",
              "           Amp is a non-blocking concurrency library for PHP.\n",
              "         </p>, <p class=\"f5 color-fg-muted mb-0 mt-1\">\n",
              "           Android is an operating system built by Google designed for mobile devices.\n",
              "         </p>]"
            ]
          },
          "metadata": {},
          "execution_count": 237
        }
      ]
    },
    {
      "cell_type": "code",
      "source": [
        "topic_title_tag0 =  topic_title_tags[0]"
      ],
      "metadata": {
        "id": "E4u1MGhViPk0"
      },
      "execution_count": 238,
      "outputs": []
    },
    {
      "cell_type": "code",
      "source": [
        "topic_title_tag0"
      ],
      "metadata": {
        "colab": {
          "base_uri": "https://localhost:8080/"
        },
        "id": "F-qxQ1IZ-BnX",
        "outputId": "cf64b0ca-4f18-4742-e49b-77e00b3d14bd"
      },
      "execution_count": 239,
      "outputs": [
        {
          "output_type": "execute_result",
          "data": {
            "text/plain": [
              "<p class=\"f3 lh-condensed mb-0 mt-1 Link--primary\">3D</p>"
            ]
          },
          "metadata": {},
          "execution_count": 239
        }
      ]
    },
    {
      "cell_type": "code",
      "source": [
        "topic_title_tag0.parent"
      ],
      "metadata": {
        "colab": {
          "base_uri": "https://localhost:8080/"
        },
        "id": "nJZe3XvNiPhz",
        "outputId": "e9daa3fd-7310-45bb-a179-e8d3429e1ed9"
      },
      "execution_count": 240,
      "outputs": [
        {
          "output_type": "execute_result",
          "data": {
            "text/plain": [
              "<a class=\"no-underline flex-1 d-flex flex-column\" href=\"/topics/3d\">\n",
              "        <p class=\"f3 lh-condensed mb-0 mt-1 Link--primary\">3D</p>\n",
              "        <p class=\"f5 color-fg-muted mb-0 mt-1\">\n",
              "          3D modeling is the process of virtually developing the surface and structure of a 3D object.\n",
              "        </p>\n",
              "      </a>"
            ]
          },
          "metadata": {},
          "execution_count": 240
        }
      ]
    },
    {
      "cell_type": "code",
      "source": [
        "topic_link_tags =doc.find_all('a', {'class':'no-underline flex-1 d-flex flex-column'})"
      ],
      "metadata": {
        "id": "PsSNWbCqiPcY"
      },
      "execution_count": 241,
      "outputs": []
    },
    {
      "cell_type": "code",
      "source": [
        "len(topic_link_tags)"
      ],
      "metadata": {
        "colab": {
          "base_uri": "https://localhost:8080/"
        },
        "id": "THL70XGZiPZc",
        "outputId": "42afb2e2-91da-4941-c336-768dd310e0ac"
      },
      "execution_count": 242,
      "outputs": [
        {
          "output_type": "execute_result",
          "data": {
            "text/plain": [
              "30"
            ]
          },
          "metadata": {},
          "execution_count": 242
        }
      ]
    },
    {
      "cell_type": "code",
      "source": [
        "topic_link_tags[0]"
      ],
      "metadata": {
        "colab": {
          "base_uri": "https://localhost:8080/"
        },
        "id": "gAsNAxS0iPXD",
        "outputId": "9609f2d0-0aa9-485f-9722-1c05a8d17a61"
      },
      "execution_count": 243,
      "outputs": [
        {
          "output_type": "execute_result",
          "data": {
            "text/plain": [
              "<a class=\"no-underline flex-1 d-flex flex-column\" href=\"/topics/3d\">\n",
              "        <p class=\"f3 lh-condensed mb-0 mt-1 Link--primary\">3D</p>\n",
              "        <p class=\"f5 color-fg-muted mb-0 mt-1\">\n",
              "          3D modeling is the process of virtually developing the surface and structure of a 3D object.\n",
              "        </p>\n",
              "      </a>"
            ]
          },
          "metadata": {},
          "execution_count": 243
        }
      ]
    },
    {
      "cell_type": "code",
      "source": [
        "topic_link_tags[0]['href']"
      ],
      "metadata": {
        "colab": {
          "base_uri": "https://localhost:8080/",
          "height": 36
        },
        "id": "7jAXHZZDiPUX",
        "outputId": "14348a3d-15f2-46f8-c625-7c8465fd69ac"
      },
      "execution_count": 244,
      "outputs": [
        {
          "output_type": "execute_result",
          "data": {
            "text/plain": [
              "'/topics/3d'"
            ],
            "application/vnd.google.colaboratory.intrinsic+json": {
              "type": "string"
            }
          },
          "metadata": {},
          "execution_count": 244
        }
      ]
    },
    {
      "cell_type": "code",
      "source": [
        "topic0_url= \"https://github.com\"+topic_link_tags[0]['href']\n",
        "print(topic0_url)"
      ],
      "metadata": {
        "colab": {
          "base_uri": "https://localhost:8080/"
        },
        "id": "ja_AyMPZA-uu",
        "outputId": "63ece4ea-0a76-4184-cc74-543b8abf846f"
      },
      "execution_count": 245,
      "outputs": [
        {
          "output_type": "stream",
          "name": "stdout",
          "text": [
            "https://github.com/topics/3d\n"
          ]
        }
      ]
    },
    {
      "cell_type": "code",
      "source": [
        "topic_title_tags[:5]"
      ],
      "metadata": {
        "colab": {
          "base_uri": "https://localhost:8080/"
        },
        "id": "RhpSxoQLEaC2",
        "outputId": "b9a54c8c-73b1-4e23-e7b2-9b31ea80bcd9"
      },
      "execution_count": 246,
      "outputs": [
        {
          "output_type": "execute_result",
          "data": {
            "text/plain": [
              "[<p class=\"f3 lh-condensed mb-0 mt-1 Link--primary\">3D</p>,\n",
              " <p class=\"f3 lh-condensed mb-0 mt-1 Link--primary\">Ajax</p>,\n",
              " <p class=\"f3 lh-condensed mb-0 mt-1 Link--primary\">Algorithm</p>,\n",
              " <p class=\"f3 lh-condensed mb-0 mt-1 Link--primary\">Amp</p>,\n",
              " <p class=\"f3 lh-condensed mb-0 mt-1 Link--primary\">Android</p>]"
            ]
          },
          "metadata": {},
          "execution_count": 246
        }
      ]
    },
    {
      "cell_type": "code",
      "source": [
        "topic_title_tags[0].text"
      ],
      "metadata": {
        "colab": {
          "base_uri": "https://localhost:8080/",
          "height": 36
        },
        "id": "IgmgFUjdA-oz",
        "outputId": "85eb8dda-8a82-430f-c2b6-c19f658378fe"
      },
      "execution_count": 247,
      "outputs": [
        {
          "output_type": "execute_result",
          "data": {
            "text/plain": [
              "'3D'"
            ],
            "application/vnd.google.colaboratory.intrinsic+json": {
              "type": "string"
            }
          },
          "metadata": {},
          "execution_count": 247
        }
      ]
    },
    {
      "cell_type": "code",
      "source": [
        "topic_titles = []\n",
        "for tag in topic_title_tags :\n",
        "  topic_titles.append(tag.text)\n",
        "print (topic_titles)"
      ],
      "metadata": {
        "colab": {
          "base_uri": "https://localhost:8080/"
        },
        "id": "-KDX9qbOA-l9",
        "outputId": "899e7e00-5c37-4870-c4d6-7902e217db41"
      },
      "execution_count": 248,
      "outputs": [
        {
          "output_type": "stream",
          "name": "stdout",
          "text": [
            "['3D', 'Ajax', 'Algorithm', 'Amp', 'Android', 'Angular', 'Ansible', 'API', 'Arduino', 'ASP.NET', 'Atom', 'Awesome Lists', 'Amazon Web Services', 'Azure', 'Babel', 'Bash', 'Bitcoin', 'Bootstrap', 'Bot', 'C', 'Chrome', 'Chrome extension', 'Command line interface', 'Clojure', 'Code quality', 'Code review', 'Compiler', 'Continuous integration', 'COVID-19', 'C++']\n"
          ]
        }
      ]
    },
    {
      "cell_type": "code",
      "source": [
        "topic_descs = []\n",
        "for tag in topic_desc_tags:\n",
        "  topic_descs.append(tag.text.strip())\n",
        "topic_descs[:5]"
      ],
      "metadata": {
        "colab": {
          "base_uri": "https://localhost:8080/"
        },
        "id": "F3hGBjfOA-ja",
        "outputId": "d4af5e00-a5a6-4b4f-a891-b25404a2b94c"
      },
      "execution_count": 249,
      "outputs": [
        {
          "output_type": "execute_result",
          "data": {
            "text/plain": [
              "['3D modeling is the process of virtually developing the surface and structure of a 3D object.',\n",
              " 'Ajax is a technique for creating interactive web applications.',\n",
              " 'Algorithms are self-contained sequences that carry out a variety of tasks.',\n",
              " 'Amp is a non-blocking concurrency library for PHP.',\n",
              " 'Android is an operating system built by Google designed for mobile devices.']"
            ]
          },
          "metadata": {},
          "execution_count": 249
        }
      ]
    },
    {
      "cell_type": "code",
      "source": [
        "topic_urls = []\n",
        "base_url ='https://github.com'\n",
        "for tag in topic_link_tags:\n",
        "  topic_urls.append(base_url +tag['href'])\n",
        "topic_urls"
      ],
      "metadata": {
        "colab": {
          "base_uri": "https://localhost:8080/"
        },
        "id": "oljLXYZDA-g7",
        "outputId": "15896305-cd33-4f82-d475-d7462c3d9280"
      },
      "execution_count": 250,
      "outputs": [
        {
          "output_type": "execute_result",
          "data": {
            "text/plain": [
              "['https://github.com/topics/3d',\n",
              " 'https://github.com/topics/ajax',\n",
              " 'https://github.com/topics/algorithm',\n",
              " 'https://github.com/topics/amphp',\n",
              " 'https://github.com/topics/android',\n",
              " 'https://github.com/topics/angular',\n",
              " 'https://github.com/topics/ansible',\n",
              " 'https://github.com/topics/api',\n",
              " 'https://github.com/topics/arduino',\n",
              " 'https://github.com/topics/aspnet',\n",
              " 'https://github.com/topics/atom',\n",
              " 'https://github.com/topics/awesome',\n",
              " 'https://github.com/topics/aws',\n",
              " 'https://github.com/topics/azure',\n",
              " 'https://github.com/topics/babel',\n",
              " 'https://github.com/topics/bash',\n",
              " 'https://github.com/topics/bitcoin',\n",
              " 'https://github.com/topics/bootstrap',\n",
              " 'https://github.com/topics/bot',\n",
              " 'https://github.com/topics/c',\n",
              " 'https://github.com/topics/chrome',\n",
              " 'https://github.com/topics/chrome-extension',\n",
              " 'https://github.com/topics/cli',\n",
              " 'https://github.com/topics/clojure',\n",
              " 'https://github.com/topics/code-quality',\n",
              " 'https://github.com/topics/code-review',\n",
              " 'https://github.com/topics/compiler',\n",
              " 'https://github.com/topics/continuous-integration',\n",
              " 'https://github.com/topics/covid-19',\n",
              " 'https://github.com/topics/cpp']"
            ]
          },
          "metadata": {},
          "execution_count": 250
        }
      ]
    },
    {
      "cell_type": "code",
      "source": [
        "!pip install pandas --quiet"
      ],
      "metadata": {
        "id": "aMrRF_Y6A-de"
      },
      "execution_count": 251,
      "outputs": []
    },
    {
      "cell_type": "code",
      "source": [
        "import pandas as pd"
      ],
      "metadata": {
        "id": "CinMlhFHA-az"
      },
      "execution_count": 252,
      "outputs": []
    },
    {
      "cell_type": "code",
      "source": [
        "topics_dict ={\n",
        "    'title' :topic_titles,\n",
        "    'description' :topic_descs,\n",
        "    'url' :topic_urls\n",
        "}"
      ],
      "metadata": {
        "id": "wMr2xvp1A-X3"
      },
      "execution_count": 253,
      "outputs": []
    },
    {
      "cell_type": "markdown",
      "source": [
        "To check the dictionary"
      ],
      "metadata": {
        "id": "nn-J-5cDL8Hg"
      }
    },
    {
      "cell_type": "code",
      "source": [
        "topics_dict"
      ],
      "metadata": {
        "colab": {
          "base_uri": "https://localhost:8080/"
        },
        "id": "159TxNXuA-U8",
        "outputId": "97a86fa2-6d60-4ecf-e433-63fd90680807"
      },
      "execution_count": 254,
      "outputs": [
        {
          "output_type": "execute_result",
          "data": {
            "text/plain": [
              "{'title': ['3D',\n",
              "  'Ajax',\n",
              "  'Algorithm',\n",
              "  'Amp',\n",
              "  'Android',\n",
              "  'Angular',\n",
              "  'Ansible',\n",
              "  'API',\n",
              "  'Arduino',\n",
              "  'ASP.NET',\n",
              "  'Atom',\n",
              "  'Awesome Lists',\n",
              "  'Amazon Web Services',\n",
              "  'Azure',\n",
              "  'Babel',\n",
              "  'Bash',\n",
              "  'Bitcoin',\n",
              "  'Bootstrap',\n",
              "  'Bot',\n",
              "  'C',\n",
              "  'Chrome',\n",
              "  'Chrome extension',\n",
              "  'Command line interface',\n",
              "  'Clojure',\n",
              "  'Code quality',\n",
              "  'Code review',\n",
              "  'Compiler',\n",
              "  'Continuous integration',\n",
              "  'COVID-19',\n",
              "  'C++'],\n",
              " 'description': ['3D modeling is the process of virtually developing the surface and structure of a 3D object.',\n",
              "  'Ajax is a technique for creating interactive web applications.',\n",
              "  'Algorithms are self-contained sequences that carry out a variety of tasks.',\n",
              "  'Amp is a non-blocking concurrency library for PHP.',\n",
              "  'Android is an operating system built by Google designed for mobile devices.',\n",
              "  'Angular is an open source web application platform.',\n",
              "  'Ansible is a simple and powerful automation engine.',\n",
              "  'An API (Application Programming Interface) is a collection of protocols and subroutines for building software.',\n",
              "  'Arduino is an open source hardware and software company and maker community.',\n",
              "  'ASP.NET is a web framework for building modern web apps and services.',\n",
              "  'Atom is a open source text editor built with web technologies.',\n",
              "  'An awesome list is a list of awesome things curated by the community.',\n",
              "  'Amazon Web Services provides on-demand cloud computing platforms on a subscription basis.',\n",
              "  'Azure is a cloud computing service created by Microsoft.',\n",
              "  'Babel is a compiler for writing next generation JavaScript, today.',\n",
              "  'Bash is a shell and command language interpreter for the GNU operating system.',\n",
              "  'Bitcoin is a cryptocurrency developed by Satoshi Nakamoto.',\n",
              "  'Bootstrap is an HTML, CSS, and JavaScript framework.',\n",
              "  'A bot is an application that runs automated tasks over the Internet.',\n",
              "  'C is a general purpose programming language that first appeared in 1972.',\n",
              "  'Chrome is a web browser from the tech company Google.',\n",
              "  'Chrome extensions enable users to customize the Chrome browsing experience.',\n",
              "  'A CLI, or command-line interface, is a console that helps users issue commands to a program.',\n",
              "  'Clojure is a dynamic, general-purpose programming language.',\n",
              "  'Automate your code review with style, quality, security, and test‑coverage checks when you need them.',\n",
              "  'Ensure your code meets quality standards and ship with confidence.',\n",
              "  'Compilers are software that translate higher-level programming languages to lower-level languages (e.g. machine code).',\n",
              "  'Automatically build and test your code as you push it upstream, preventing bugs from being deployed to production.',\n",
              "  'The coronavirus disease 2019 (COVID-19) is an infectious disease caused by SARS-CoV-2.',\n",
              "  'C++ is a general purpose and object-oriented programming language.'],\n",
              " 'url': ['https://github.com/topics/3d',\n",
              "  'https://github.com/topics/ajax',\n",
              "  'https://github.com/topics/algorithm',\n",
              "  'https://github.com/topics/amphp',\n",
              "  'https://github.com/topics/android',\n",
              "  'https://github.com/topics/angular',\n",
              "  'https://github.com/topics/ansible',\n",
              "  'https://github.com/topics/api',\n",
              "  'https://github.com/topics/arduino',\n",
              "  'https://github.com/topics/aspnet',\n",
              "  'https://github.com/topics/atom',\n",
              "  'https://github.com/topics/awesome',\n",
              "  'https://github.com/topics/aws',\n",
              "  'https://github.com/topics/azure',\n",
              "  'https://github.com/topics/babel',\n",
              "  'https://github.com/topics/bash',\n",
              "  'https://github.com/topics/bitcoin',\n",
              "  'https://github.com/topics/bootstrap',\n",
              "  'https://github.com/topics/bot',\n",
              "  'https://github.com/topics/c',\n",
              "  'https://github.com/topics/chrome',\n",
              "  'https://github.com/topics/chrome-extension',\n",
              "  'https://github.com/topics/cli',\n",
              "  'https://github.com/topics/clojure',\n",
              "  'https://github.com/topics/code-quality',\n",
              "  'https://github.com/topics/code-review',\n",
              "  'https://github.com/topics/compiler',\n",
              "  'https://github.com/topics/continuous-integration',\n",
              "  'https://github.com/topics/covid-19',\n",
              "  'https://github.com/topics/cpp']}"
            ]
          },
          "metadata": {},
          "execution_count": 254
        }
      ]
    },
    {
      "cell_type": "code",
      "source": [
        "topics_df =pd.DataFrame(topics_dict)"
      ],
      "metadata": {
        "id": "7Hc29mbtL6VN"
      },
      "execution_count": 255,
      "outputs": []
    },
    {
      "cell_type": "code",
      "source": [
        "topics_df"
      ],
      "metadata": {
        "colab": {
          "base_uri": "https://localhost:8080/",
          "height": 990
        },
        "id": "d_eR_HqvL6So",
        "outputId": "463ce508-6c1d-4989-a65c-a225640d7faf"
      },
      "execution_count": 256,
      "outputs": [
        {
          "output_type": "execute_result",
          "data": {
            "text/plain": [
              "                     title                                        description  \\\n",
              "0                       3D  3D modeling is the process of virtually develo...   \n",
              "1                     Ajax  Ajax is a technique for creating interactive w...   \n",
              "2                Algorithm  Algorithms are self-contained sequences that c...   \n",
              "3                      Amp  Amp is a non-blocking concurrency library for ...   \n",
              "4                  Android  Android is an operating system built by Google...   \n",
              "5                  Angular  Angular is an open source web application plat...   \n",
              "6                  Ansible  Ansible is a simple and powerful automation en...   \n",
              "7                      API  An API (Application Programming Interface) is ...   \n",
              "8                  Arduino  Arduino is an open source hardware and softwar...   \n",
              "9                  ASP.NET  ASP.NET is a web framework for building modern...   \n",
              "10                    Atom  Atom is a open source text editor built with w...   \n",
              "11           Awesome Lists  An awesome list is a list of awesome things cu...   \n",
              "12     Amazon Web Services  Amazon Web Services provides on-demand cloud c...   \n",
              "13                   Azure  Azure is a cloud computing service created by ...   \n",
              "14                   Babel  Babel is a compiler for writing next generatio...   \n",
              "15                    Bash  Bash is a shell and command language interpret...   \n",
              "16                 Bitcoin  Bitcoin is a cryptocurrency developed by Satos...   \n",
              "17               Bootstrap  Bootstrap is an HTML, CSS, and JavaScript fram...   \n",
              "18                     Bot  A bot is an application that runs automated ta...   \n",
              "19                       C  C is a general purpose programming language th...   \n",
              "20                  Chrome  Chrome is a web browser from the tech company ...   \n",
              "21        Chrome extension  Chrome extensions enable users to customize th...   \n",
              "22  Command line interface  A CLI, or command-line interface, is a console...   \n",
              "23                 Clojure  Clojure is a dynamic, general-purpose programm...   \n",
              "24            Code quality  Automate your code review with style, quality,...   \n",
              "25             Code review  Ensure your code meets quality standards and s...   \n",
              "26                Compiler  Compilers are software that translate higher-l...   \n",
              "27  Continuous integration  Automatically build and test your code as you ...   \n",
              "28                COVID-19  The coronavirus disease 2019 (COVID-19) is an ...   \n",
              "29                     C++  C++ is a general purpose and object-oriented p...   \n",
              "\n",
              "                                                 url  \n",
              "0                       https://github.com/topics/3d  \n",
              "1                     https://github.com/topics/ajax  \n",
              "2                https://github.com/topics/algorithm  \n",
              "3                    https://github.com/topics/amphp  \n",
              "4                  https://github.com/topics/android  \n",
              "5                  https://github.com/topics/angular  \n",
              "6                  https://github.com/topics/ansible  \n",
              "7                      https://github.com/topics/api  \n",
              "8                  https://github.com/topics/arduino  \n",
              "9                   https://github.com/topics/aspnet  \n",
              "10                    https://github.com/topics/atom  \n",
              "11                 https://github.com/topics/awesome  \n",
              "12                     https://github.com/topics/aws  \n",
              "13                   https://github.com/topics/azure  \n",
              "14                   https://github.com/topics/babel  \n",
              "15                    https://github.com/topics/bash  \n",
              "16                 https://github.com/topics/bitcoin  \n",
              "17               https://github.com/topics/bootstrap  \n",
              "18                     https://github.com/topics/bot  \n",
              "19                       https://github.com/topics/c  \n",
              "20                  https://github.com/topics/chrome  \n",
              "21        https://github.com/topics/chrome-extension  \n",
              "22                     https://github.com/topics/cli  \n",
              "23                 https://github.com/topics/clojure  \n",
              "24            https://github.com/topics/code-quality  \n",
              "25             https://github.com/topics/code-review  \n",
              "26                https://github.com/topics/compiler  \n",
              "27  https://github.com/topics/continuous-integration  \n",
              "28                https://github.com/topics/covid-19  \n",
              "29                     https://github.com/topics/cpp  "
            ],
            "text/html": [
              "\n",
              "  <div id=\"df-81ee751d-44da-4749-82e5-03dd71cdcd1a\">\n",
              "    <div class=\"colab-df-container\">\n",
              "      <div>\n",
              "<style scoped>\n",
              "    .dataframe tbody tr th:only-of-type {\n",
              "        vertical-align: middle;\n",
              "    }\n",
              "\n",
              "    .dataframe tbody tr th {\n",
              "        vertical-align: top;\n",
              "    }\n",
              "\n",
              "    .dataframe thead th {\n",
              "        text-align: right;\n",
              "    }\n",
              "</style>\n",
              "<table border=\"1\" class=\"dataframe\">\n",
              "  <thead>\n",
              "    <tr style=\"text-align: right;\">\n",
              "      <th></th>\n",
              "      <th>title</th>\n",
              "      <th>description</th>\n",
              "      <th>url</th>\n",
              "    </tr>\n",
              "  </thead>\n",
              "  <tbody>\n",
              "    <tr>\n",
              "      <th>0</th>\n",
              "      <td>3D</td>\n",
              "      <td>3D modeling is the process of virtually develo...</td>\n",
              "      <td>https://github.com/topics/3d</td>\n",
              "    </tr>\n",
              "    <tr>\n",
              "      <th>1</th>\n",
              "      <td>Ajax</td>\n",
              "      <td>Ajax is a technique for creating interactive w...</td>\n",
              "      <td>https://github.com/topics/ajax</td>\n",
              "    </tr>\n",
              "    <tr>\n",
              "      <th>2</th>\n",
              "      <td>Algorithm</td>\n",
              "      <td>Algorithms are self-contained sequences that c...</td>\n",
              "      <td>https://github.com/topics/algorithm</td>\n",
              "    </tr>\n",
              "    <tr>\n",
              "      <th>3</th>\n",
              "      <td>Amp</td>\n",
              "      <td>Amp is a non-blocking concurrency library for ...</td>\n",
              "      <td>https://github.com/topics/amphp</td>\n",
              "    </tr>\n",
              "    <tr>\n",
              "      <th>4</th>\n",
              "      <td>Android</td>\n",
              "      <td>Android is an operating system built by Google...</td>\n",
              "      <td>https://github.com/topics/android</td>\n",
              "    </tr>\n",
              "    <tr>\n",
              "      <th>5</th>\n",
              "      <td>Angular</td>\n",
              "      <td>Angular is an open source web application plat...</td>\n",
              "      <td>https://github.com/topics/angular</td>\n",
              "    </tr>\n",
              "    <tr>\n",
              "      <th>6</th>\n",
              "      <td>Ansible</td>\n",
              "      <td>Ansible is a simple and powerful automation en...</td>\n",
              "      <td>https://github.com/topics/ansible</td>\n",
              "    </tr>\n",
              "    <tr>\n",
              "      <th>7</th>\n",
              "      <td>API</td>\n",
              "      <td>An API (Application Programming Interface) is ...</td>\n",
              "      <td>https://github.com/topics/api</td>\n",
              "    </tr>\n",
              "    <tr>\n",
              "      <th>8</th>\n",
              "      <td>Arduino</td>\n",
              "      <td>Arduino is an open source hardware and softwar...</td>\n",
              "      <td>https://github.com/topics/arduino</td>\n",
              "    </tr>\n",
              "    <tr>\n",
              "      <th>9</th>\n",
              "      <td>ASP.NET</td>\n",
              "      <td>ASP.NET is a web framework for building modern...</td>\n",
              "      <td>https://github.com/topics/aspnet</td>\n",
              "    </tr>\n",
              "    <tr>\n",
              "      <th>10</th>\n",
              "      <td>Atom</td>\n",
              "      <td>Atom is a open source text editor built with w...</td>\n",
              "      <td>https://github.com/topics/atom</td>\n",
              "    </tr>\n",
              "    <tr>\n",
              "      <th>11</th>\n",
              "      <td>Awesome Lists</td>\n",
              "      <td>An awesome list is a list of awesome things cu...</td>\n",
              "      <td>https://github.com/topics/awesome</td>\n",
              "    </tr>\n",
              "    <tr>\n",
              "      <th>12</th>\n",
              "      <td>Amazon Web Services</td>\n",
              "      <td>Amazon Web Services provides on-demand cloud c...</td>\n",
              "      <td>https://github.com/topics/aws</td>\n",
              "    </tr>\n",
              "    <tr>\n",
              "      <th>13</th>\n",
              "      <td>Azure</td>\n",
              "      <td>Azure is a cloud computing service created by ...</td>\n",
              "      <td>https://github.com/topics/azure</td>\n",
              "    </tr>\n",
              "    <tr>\n",
              "      <th>14</th>\n",
              "      <td>Babel</td>\n",
              "      <td>Babel is a compiler for writing next generatio...</td>\n",
              "      <td>https://github.com/topics/babel</td>\n",
              "    </tr>\n",
              "    <tr>\n",
              "      <th>15</th>\n",
              "      <td>Bash</td>\n",
              "      <td>Bash is a shell and command language interpret...</td>\n",
              "      <td>https://github.com/topics/bash</td>\n",
              "    </tr>\n",
              "    <tr>\n",
              "      <th>16</th>\n",
              "      <td>Bitcoin</td>\n",
              "      <td>Bitcoin is a cryptocurrency developed by Satos...</td>\n",
              "      <td>https://github.com/topics/bitcoin</td>\n",
              "    </tr>\n",
              "    <tr>\n",
              "      <th>17</th>\n",
              "      <td>Bootstrap</td>\n",
              "      <td>Bootstrap is an HTML, CSS, and JavaScript fram...</td>\n",
              "      <td>https://github.com/topics/bootstrap</td>\n",
              "    </tr>\n",
              "    <tr>\n",
              "      <th>18</th>\n",
              "      <td>Bot</td>\n",
              "      <td>A bot is an application that runs automated ta...</td>\n",
              "      <td>https://github.com/topics/bot</td>\n",
              "    </tr>\n",
              "    <tr>\n",
              "      <th>19</th>\n",
              "      <td>C</td>\n",
              "      <td>C is a general purpose programming language th...</td>\n",
              "      <td>https://github.com/topics/c</td>\n",
              "    </tr>\n",
              "    <tr>\n",
              "      <th>20</th>\n",
              "      <td>Chrome</td>\n",
              "      <td>Chrome is a web browser from the tech company ...</td>\n",
              "      <td>https://github.com/topics/chrome</td>\n",
              "    </tr>\n",
              "    <tr>\n",
              "      <th>21</th>\n",
              "      <td>Chrome extension</td>\n",
              "      <td>Chrome extensions enable users to customize th...</td>\n",
              "      <td>https://github.com/topics/chrome-extension</td>\n",
              "    </tr>\n",
              "    <tr>\n",
              "      <th>22</th>\n",
              "      <td>Command line interface</td>\n",
              "      <td>A CLI, or command-line interface, is a console...</td>\n",
              "      <td>https://github.com/topics/cli</td>\n",
              "    </tr>\n",
              "    <tr>\n",
              "      <th>23</th>\n",
              "      <td>Clojure</td>\n",
              "      <td>Clojure is a dynamic, general-purpose programm...</td>\n",
              "      <td>https://github.com/topics/clojure</td>\n",
              "    </tr>\n",
              "    <tr>\n",
              "      <th>24</th>\n",
              "      <td>Code quality</td>\n",
              "      <td>Automate your code review with style, quality,...</td>\n",
              "      <td>https://github.com/topics/code-quality</td>\n",
              "    </tr>\n",
              "    <tr>\n",
              "      <th>25</th>\n",
              "      <td>Code review</td>\n",
              "      <td>Ensure your code meets quality standards and s...</td>\n",
              "      <td>https://github.com/topics/code-review</td>\n",
              "    </tr>\n",
              "    <tr>\n",
              "      <th>26</th>\n",
              "      <td>Compiler</td>\n",
              "      <td>Compilers are software that translate higher-l...</td>\n",
              "      <td>https://github.com/topics/compiler</td>\n",
              "    </tr>\n",
              "    <tr>\n",
              "      <th>27</th>\n",
              "      <td>Continuous integration</td>\n",
              "      <td>Automatically build and test your code as you ...</td>\n",
              "      <td>https://github.com/topics/continuous-integration</td>\n",
              "    </tr>\n",
              "    <tr>\n",
              "      <th>28</th>\n",
              "      <td>COVID-19</td>\n",
              "      <td>The coronavirus disease 2019 (COVID-19) is an ...</td>\n",
              "      <td>https://github.com/topics/covid-19</td>\n",
              "    </tr>\n",
              "    <tr>\n",
              "      <th>29</th>\n",
              "      <td>C++</td>\n",
              "      <td>C++ is a general purpose and object-oriented p...</td>\n",
              "      <td>https://github.com/topics/cpp</td>\n",
              "    </tr>\n",
              "  </tbody>\n",
              "</table>\n",
              "</div>\n",
              "      <button class=\"colab-df-convert\" onclick=\"convertToInteractive('df-81ee751d-44da-4749-82e5-03dd71cdcd1a')\"\n",
              "              title=\"Convert this dataframe to an interactive table.\"\n",
              "              style=\"display:none;\">\n",
              "        \n",
              "  <svg xmlns=\"http://www.w3.org/2000/svg\" height=\"24px\"viewBox=\"0 0 24 24\"\n",
              "       width=\"24px\">\n",
              "    <path d=\"M0 0h24v24H0V0z\" fill=\"none\"/>\n",
              "    <path d=\"M18.56 5.44l.94 2.06.94-2.06 2.06-.94-2.06-.94-.94-2.06-.94 2.06-2.06.94zm-11 1L8.5 8.5l.94-2.06 2.06-.94-2.06-.94L8.5 2.5l-.94 2.06-2.06.94zm10 10l.94 2.06.94-2.06 2.06-.94-2.06-.94-.94-2.06-.94 2.06-2.06.94z\"/><path d=\"M17.41 7.96l-1.37-1.37c-.4-.4-.92-.59-1.43-.59-.52 0-1.04.2-1.43.59L10.3 9.45l-7.72 7.72c-.78.78-.78 2.05 0 2.83L4 21.41c.39.39.9.59 1.41.59.51 0 1.02-.2 1.41-.59l7.78-7.78 2.81-2.81c.8-.78.8-2.07 0-2.86zM5.41 20L4 18.59l7.72-7.72 1.47 1.35L5.41 20z\"/>\n",
              "  </svg>\n",
              "      </button>\n",
              "      \n",
              "  <style>\n",
              "    .colab-df-container {\n",
              "      display:flex;\n",
              "      flex-wrap:wrap;\n",
              "      gap: 12px;\n",
              "    }\n",
              "\n",
              "    .colab-df-convert {\n",
              "      background-color: #E8F0FE;\n",
              "      border: none;\n",
              "      border-radius: 50%;\n",
              "      cursor: pointer;\n",
              "      display: none;\n",
              "      fill: #1967D2;\n",
              "      height: 32px;\n",
              "      padding: 0 0 0 0;\n",
              "      width: 32px;\n",
              "    }\n",
              "\n",
              "    .colab-df-convert:hover {\n",
              "      background-color: #E2EBFA;\n",
              "      box-shadow: 0px 1px 2px rgba(60, 64, 67, 0.3), 0px 1px 3px 1px rgba(60, 64, 67, 0.15);\n",
              "      fill: #174EA6;\n",
              "    }\n",
              "\n",
              "    [theme=dark] .colab-df-convert {\n",
              "      background-color: #3B4455;\n",
              "      fill: #D2E3FC;\n",
              "    }\n",
              "\n",
              "    [theme=dark] .colab-df-convert:hover {\n",
              "      background-color: #434B5C;\n",
              "      box-shadow: 0px 1px 3px 1px rgba(0, 0, 0, 0.15);\n",
              "      filter: drop-shadow(0px 1px 2px rgba(0, 0, 0, 0.3));\n",
              "      fill: #FFFFFF;\n",
              "    }\n",
              "  </style>\n",
              "\n",
              "      <script>\n",
              "        const buttonEl =\n",
              "          document.querySelector('#df-81ee751d-44da-4749-82e5-03dd71cdcd1a button.colab-df-convert');\n",
              "        buttonEl.style.display =\n",
              "          google.colab.kernel.accessAllowed ? 'block' : 'none';\n",
              "\n",
              "        async function convertToInteractive(key) {\n",
              "          const element = document.querySelector('#df-81ee751d-44da-4749-82e5-03dd71cdcd1a');\n",
              "          const dataTable =\n",
              "            await google.colab.kernel.invokeFunction('convertToInteractive',\n",
              "                                                     [key], {});\n",
              "          if (!dataTable) return;\n",
              "\n",
              "          const docLinkHtml = 'Like what you see? Visit the ' +\n",
              "            '<a target=\"_blank\" href=https://colab.research.google.com/notebooks/data_table.ipynb>data table notebook</a>'\n",
              "            + ' to learn more about interactive tables.';\n",
              "          element.innerHTML = '';\n",
              "          dataTable['output_type'] = 'display_data';\n",
              "          await google.colab.output.renderOutput(dataTable, element);\n",
              "          const docLink = document.createElement('div');\n",
              "          docLink.innerHTML = docLinkHtml;\n",
              "          element.appendChild(docLink);\n",
              "        }\n",
              "      </script>\n",
              "    </div>\n",
              "  </div>\n",
              "  "
            ]
          },
          "metadata": {},
          "execution_count": 256
        }
      ]
    },
    {
      "cell_type": "markdown",
      "source": [
        "create a CSV file with extracted information"
      ],
      "metadata": {
        "id": "eEMqON5KPvEo"
      }
    },
    {
      "cell_type": "code",
      "source": [
        "topics_df.to_csv('topics.csv', index=None)"
      ],
      "metadata": {
        "id": "oH_rztVTL6Pv"
      },
      "execution_count": 257,
      "outputs": []
    },
    {
      "cell_type": "markdown",
      "source": [
        "Getting Information out of a topic page"
      ],
      "metadata": {
        "id": "aIK9Z6JeQMmD"
      }
    },
    {
      "cell_type": "code",
      "source": [
        "topic_page_url = topic_urls[0]"
      ],
      "metadata": {
        "id": "aKhJZvr7L6NL"
      },
      "execution_count": 258,
      "outputs": []
    },
    {
      "cell_type": "code",
      "source": [
        "topic_page_url"
      ],
      "metadata": {
        "colab": {
          "base_uri": "https://localhost:8080/",
          "height": 36
        },
        "id": "qTjLLzYtL6Kj",
        "outputId": "b2f4c1c1-a312-4336-a3ae-ad6fbed8dfb9"
      },
      "execution_count": 259,
      "outputs": [
        {
          "output_type": "execute_result",
          "data": {
            "text/plain": [
              "'https://github.com/topics/3d'"
            ],
            "application/vnd.google.colaboratory.intrinsic+json": {
              "type": "string"
            }
          },
          "metadata": {},
          "execution_count": 259
        }
      ]
    },
    {
      "cell_type": "code",
      "source": [
        "response = requests.get(topic_page_url)"
      ],
      "metadata": {
        "id": "f_EiM_CtL6Hv"
      },
      "execution_count": 260,
      "outputs": []
    },
    {
      "cell_type": "code",
      "source": [
        "response.status_code"
      ],
      "metadata": {
        "colab": {
          "base_uri": "https://localhost:8080/"
        },
        "id": "JcBsP0crL6FE",
        "outputId": "cba29aec-bda6-4e16-91f9-43bb78a6bc75"
      },
      "execution_count": 261,
      "outputs": [
        {
          "output_type": "execute_result",
          "data": {
            "text/plain": [
              "200"
            ]
          },
          "metadata": {},
          "execution_count": 261
        }
      ]
    },
    {
      "cell_type": "code",
      "source": [
        "len(response.text)"
      ],
      "metadata": {
        "colab": {
          "base_uri": "https://localhost:8080/"
        },
        "id": "gFyx1z99ROaW",
        "outputId": "67bb3240-3125-4e14-cfc0-1babc83dfcf1"
      },
      "execution_count": 262,
      "outputs": [
        {
          "output_type": "execute_result",
          "data": {
            "text/plain": [
              "431094"
            ]
          },
          "metadata": {},
          "execution_count": 262
        }
      ]
    },
    {
      "cell_type": "code",
      "source": [
        "topic_doc = BeautifulSoup(response.text ,'html5lib')"
      ],
      "metadata": {
        "id": "ZDg8o9pfROW6"
      },
      "execution_count": 263,
      "outputs": []
    },
    {
      "cell_type": "code",
      "source": [
        "h3_selection_class ='f3 color-fg-muted text-normal lh-condensed'\n",
        "repo_tags=topic_doc.find_all('h3',{'class' :h3_selection_class})"
      ],
      "metadata": {
        "id": "COTCVOmKROUX"
      },
      "execution_count": 264,
      "outputs": []
    },
    {
      "cell_type": "code",
      "source": [
        "len(repo_tags)"
      ],
      "metadata": {
        "colab": {
          "base_uri": "https://localhost:8080/"
        },
        "id": "bTkRMWbSROR7",
        "outputId": "eedf7f28-8566-4c9e-afa7-37c1ded959d9"
      },
      "execution_count": 265,
      "outputs": [
        {
          "output_type": "execute_result",
          "data": {
            "text/plain": [
              "20"
            ]
          },
          "metadata": {},
          "execution_count": 265
        }
      ]
    },
    {
      "cell_type": "code",
      "source": [
        "repo_tags[0]"
      ],
      "metadata": {
        "colab": {
          "base_uri": "https://localhost:8080/"
        },
        "id": "O7Ijy6SaROPb",
        "outputId": "9987121f-ef58-43b1-b386-c0ffc491e3a7"
      },
      "execution_count": 266,
      "outputs": [
        {
          "output_type": "execute_result",
          "data": {
            "text/plain": [
              "<h3 class=\"f3 color-fg-muted text-normal lh-condensed\">\n",
              "          <a data-hydro-click='{\"event_type\":\"explore.click\",\"payload\":{\"click_context\":\"REPOSITORY_CARD\",\"click_target\":\"OWNER\",\"click_visual_representation\":\"REPOSITORY_OWNER_HEADING\",\"actor_id\":null,\"record_id\":97088,\"originating_url\":\"https://github.com/topics/3d\",\"user_id\":null}}' data-hydro-click-hmac=\"4bdbc49d3c05ae7f70b531fbce709a384200b0768554e0172950286a8db30940\" data-turbo=\"false\" data-view-component=\"true\" href=\"/mrdoob\">\n",
              "            mrdoob\n",
              "</a>          /\n",
              "          <a class=\"text-bold wb-break-word\" data-hydro-click='{\"event_type\":\"explore.click\",\"payload\":{\"click_context\":\"REPOSITORY_CARD\",\"click_target\":\"REPOSITORY\",\"click_visual_representation\":\"REPOSITORY_NAME_HEADING\",\"actor_id\":null,\"record_id\":576201,\"originating_url\":\"https://github.com/topics/3d\",\"user_id\":null}}' data-hydro-click-hmac=\"517d3d5cb9d89752156923904a4238816bc9b51ab7772f3e3644ce897d8dd4e5\" data-turbo=\"false\" data-view-component=\"true\" href=\"/mrdoob/three.js\">\n",
              "            three.js\n",
              "</a>        </h3>"
            ]
          },
          "metadata": {},
          "execution_count": 266
        }
      ]
    },
    {
      "cell_type": "code",
      "source": [
        "a_tags = repo_tags[0].find_all('a')"
      ],
      "metadata": {
        "id": "3pvDubFzROMz"
      },
      "execution_count": 267,
      "outputs": []
    },
    {
      "cell_type": "code",
      "source": [
        "a_tags"
      ],
      "metadata": {
        "colab": {
          "base_uri": "https://localhost:8080/"
        },
        "id": "5q0PixoQROKG",
        "outputId": "9bc30d24-fd47-4d28-9cf7-65fc4c630fb1"
      },
      "execution_count": 268,
      "outputs": [
        {
          "output_type": "execute_result",
          "data": {
            "text/plain": [
              "[<a data-hydro-click='{\"event_type\":\"explore.click\",\"payload\":{\"click_context\":\"REPOSITORY_CARD\",\"click_target\":\"OWNER\",\"click_visual_representation\":\"REPOSITORY_OWNER_HEADING\",\"actor_id\":null,\"record_id\":97088,\"originating_url\":\"https://github.com/topics/3d\",\"user_id\":null}}' data-hydro-click-hmac=\"4bdbc49d3c05ae7f70b531fbce709a384200b0768554e0172950286a8db30940\" data-turbo=\"false\" data-view-component=\"true\" href=\"/mrdoob\">\n",
              "             mrdoob\n",
              " </a>,\n",
              " <a class=\"text-bold wb-break-word\" data-hydro-click='{\"event_type\":\"explore.click\",\"payload\":{\"click_context\":\"REPOSITORY_CARD\",\"click_target\":\"REPOSITORY\",\"click_visual_representation\":\"REPOSITORY_NAME_HEADING\",\"actor_id\":null,\"record_id\":576201,\"originating_url\":\"https://github.com/topics/3d\",\"user_id\":null}}' data-hydro-click-hmac=\"517d3d5cb9d89752156923904a4238816bc9b51ab7772f3e3644ce897d8dd4e5\" data-turbo=\"false\" data-view-component=\"true\" href=\"/mrdoob/three.js\">\n",
              "             three.js\n",
              " </a>]"
            ]
          },
          "metadata": {},
          "execution_count": 268
        }
      ]
    },
    {
      "cell_type": "code",
      "source": [
        "a_tags[0]"
      ],
      "metadata": {
        "colab": {
          "base_uri": "https://localhost:8080/"
        },
        "id": "mV4650S1YMb_",
        "outputId": "c78f399d-71bd-44a2-bc24-cd65e027c12d"
      },
      "execution_count": 269,
      "outputs": [
        {
          "output_type": "execute_result",
          "data": {
            "text/plain": [
              "<a data-hydro-click='{\"event_type\":\"explore.click\",\"payload\":{\"click_context\":\"REPOSITORY_CARD\",\"click_target\":\"OWNER\",\"click_visual_representation\":\"REPOSITORY_OWNER_HEADING\",\"actor_id\":null,\"record_id\":97088,\"originating_url\":\"https://github.com/topics/3d\",\"user_id\":null}}' data-hydro-click-hmac=\"4bdbc49d3c05ae7f70b531fbce709a384200b0768554e0172950286a8db30940\" data-turbo=\"false\" data-view-component=\"true\" href=\"/mrdoob\">\n",
              "            mrdoob\n",
              "</a>"
            ]
          },
          "metadata": {},
          "execution_count": 269
        }
      ]
    },
    {
      "cell_type": "code",
      "source": [
        "a_tags[0].text.strip()"
      ],
      "metadata": {
        "colab": {
          "base_uri": "https://localhost:8080/",
          "height": 36
        },
        "id": "qfP6g1kKYMYf",
        "outputId": "b9f84469-ca3d-4f06-e9b7-f00231d5baeb"
      },
      "execution_count": 270,
      "outputs": [
        {
          "output_type": "execute_result",
          "data": {
            "text/plain": [
              "'mrdoob'"
            ],
            "application/vnd.google.colaboratory.intrinsic+json": {
              "type": "string"
            }
          },
          "metadata": {},
          "execution_count": 270
        }
      ]
    },
    {
      "cell_type": "code",
      "source": [
        "a_tags[1].text.strip()"
      ],
      "metadata": {
        "colab": {
          "base_uri": "https://localhost:8080/",
          "height": 36
        },
        "id": "cKq9sIx3YMVV",
        "outputId": "0ebc664a-9f6c-48c6-c86c-033ed3eb2187"
      },
      "execution_count": 271,
      "outputs": [
        {
          "output_type": "execute_result",
          "data": {
            "text/plain": [
              "'three.js'"
            ],
            "application/vnd.google.colaboratory.intrinsic+json": {
              "type": "string"
            }
          },
          "metadata": {},
          "execution_count": 271
        }
      ]
    },
    {
      "cell_type": "code",
      "source": [
        "base_url='https://github.com'\n",
        "repo_url=base_url+a_tags[1]['href']\n",
        "print(repo_url)"
      ],
      "metadata": {
        "colab": {
          "base_uri": "https://localhost:8080/"
        },
        "id": "74teXkhRYMSD",
        "outputId": "e0ccbe07-4392-499a-ab93-3ae6f77bf1c1"
      },
      "execution_count": 272,
      "outputs": [
        {
          "output_type": "stream",
          "name": "stdout",
          "text": [
            "https://github.com/mrdoob/three.js\n"
          ]
        }
      ]
    },
    {
      "cell_type": "markdown",
      "source": [
        "getting the stars info"
      ],
      "metadata": {
        "id": "gf2WcycWoO52"
      }
    },
    {
      "cell_type": "code",
      "source": [
        "star_tags=topic_doc.find_all('span',{'class':'Counter js-social-count'})"
      ],
      "metadata": {
        "id": "6SVJ_k8OYMPI"
      },
      "execution_count": 273,
      "outputs": []
    },
    {
      "cell_type": "code",
      "source": [
        "len(star_tags)"
      ],
      "metadata": {
        "colab": {
          "base_uri": "https://localhost:8080/"
        },
        "id": "aIr5nBk8aLyW",
        "outputId": "a7966a12-08cd-42e6-ce0b-a12811793d96"
      },
      "execution_count": 274,
      "outputs": [
        {
          "output_type": "execute_result",
          "data": {
            "text/plain": [
              "20"
            ]
          },
          "metadata": {},
          "execution_count": 274
        }
      ]
    },
    {
      "cell_type": "code",
      "source": [
        "star_tags[0]"
      ],
      "metadata": {
        "colab": {
          "base_uri": "https://localhost:8080/"
        },
        "id": "T8qJM-slaLrV",
        "outputId": "048e3d6b-12f0-467f-d7ca-3cbb0dd898ae"
      },
      "execution_count": 275,
      "outputs": [
        {
          "output_type": "execute_result",
          "data": {
            "text/plain": [
              "<span aria-label=\"84739 users starred this repository\" class=\"Counter js-social-count\" data-pjax-replace=\"true\" data-plural-suffix=\"users starred this repository\" data-singular-suffix=\"user starred this repository\" data-turbo-replace=\"true\" data-view-component=\"true\" id=\"repo-stars-counter-star\" title=\"84,739\">84.7k</span>"
            ]
          },
          "metadata": {},
          "execution_count": 275
        }
      ]
    },
    {
      "cell_type": "code",
      "source": [
        "star_tags[0].text.strip()"
      ],
      "metadata": {
        "colab": {
          "base_uri": "https://localhost:8080/",
          "height": 36
        },
        "id": "NDMiuFJ4aLoM",
        "outputId": "67582307-ec67-42a5-9fc2-4bfee7d56877"
      },
      "execution_count": 276,
      "outputs": [
        {
          "output_type": "execute_result",
          "data": {
            "text/plain": [
              "'84.7k'"
            ],
            "application/vnd.google.colaboratory.intrinsic+json": {
              "type": "string"
            }
          },
          "metadata": {},
          "execution_count": 276
        }
      ]
    },
    {
      "cell_type": "code",
      "source": [
        "def parse_star_count(stars_str):\n",
        "   stars_str=stars_str.strip()\n",
        "   if stars_str[-1] =='k':\n",
        "     return int(float(stars_str[:-1])*1000)\n",
        "     return int(stars_str)"
      ],
      "metadata": {
        "id": "bXyE9XySaLlY"
      },
      "execution_count": 277,
      "outputs": []
    },
    {
      "cell_type": "code",
      "source": [
        "parse_star_count(star_tags[0].text.strip())"
      ],
      "metadata": {
        "colab": {
          "base_uri": "https://localhost:8080/"
        },
        "id": "DnaOMnxAaLiV",
        "outputId": "eb59d77d-6378-4e2d-89ed-b15db0882466"
      },
      "execution_count": 278,
      "outputs": [
        {
          "output_type": "execute_result",
          "data": {
            "text/plain": [
              "84700"
            ]
          },
          "metadata": {},
          "execution_count": 278
        }
      ]
    },
    {
      "cell_type": "code",
      "source": [
        "def get_repo_info(h3_tag, star_tag):\n",
        "  #returns all the required info about a repository\n",
        "  a_tags=h3_tag.find_all('a')\n",
        "  username= a_tags[0].text.strip()\n",
        "  repo_name= a_tags[1].text.strip()\n",
        "  repo_url = base_url+a_tags[1]['href']\n",
        "  stars= parse_star_count(star_tag.text.strip())\n",
        "  return username, repo_name, stars,repo_url"
      ],
      "metadata": {
        "id": "Y7SWWJffgW7p"
      },
      "execution_count": 279,
      "outputs": []
    },
    {
      "cell_type": "code",
      "source": [
        "get_repo_info(repo_tags[0], star_tags[0])"
      ],
      "metadata": {
        "colab": {
          "base_uri": "https://localhost:8080/"
        },
        "id": "TncThup0gW4V",
        "outputId": "b9ab3f7f-703e-422d-c963-8fc27a304d95"
      },
      "execution_count": 280,
      "outputs": [
        {
          "output_type": "execute_result",
          "data": {
            "text/plain": [
              "('mrdoob', 'three.js', 84700, 'https://github.com/mrdoob/three.js')"
            ]
          },
          "metadata": {},
          "execution_count": 280
        }
      ]
    },
    {
      "cell_type": "code",
      "source": [
        "topic_repos_dict = {\n",
        "    'username' :[] ,\n",
        "    'repo_name' :[],\n",
        "    'stars' : [],\n",
        "    'repo_url' :[]    \n",
        "    }\n",
        "\n",
        "for i in range(len(repo_tags)):\n",
        "  repo_info =get_repo_info(repo_tags[i], star_tags[i])\n",
        "  topic_repos_dict['username'].append(repo_info[0])\n",
        "  topic_repos_dict['repo_name'].append(repo_info[1])\n",
        "  topic_repos_dict['stars'].append(repo_info[2])\n",
        "  topic_repos_dict['repo_url'].append(repo_info[3])"
      ],
      "metadata": {
        "id": "DISUIc7NgW1j"
      },
      "execution_count": 281,
      "outputs": []
    },
    {
      "cell_type": "code",
      "source": [
        "topic_repos_dict"
      ],
      "metadata": {
        "colab": {
          "base_uri": "https://localhost:8080/"
        },
        "id": "mvQI4KeEgWy9",
        "outputId": "b732d327-16fe-4452-b9d5-436af9db48ec"
      },
      "execution_count": 282,
      "outputs": [
        {
          "output_type": "execute_result",
          "data": {
            "text/plain": [
              "{'username': ['mrdoob',\n",
              "  'libgdx',\n",
              "  'pmndrs',\n",
              "  'BabylonJS',\n",
              "  'ssloy',\n",
              "  'aframevr',\n",
              "  'lettier',\n",
              "  'FreeCAD',\n",
              "  'metafizzy',\n",
              "  'CesiumGS',\n",
              "  'timzhang642',\n",
              "  'isl-org',\n",
              "  'a1studmuffin',\n",
              "  'blender',\n",
              "  'domlysz',\n",
              "  'spritejs',\n",
              "  'openscad',\n",
              "  'tensorspace-team',\n",
              "  'jagenjo',\n",
              "  'YadiraF'],\n",
              " 'repo_name': ['three.js',\n",
              "  'libgdx',\n",
              "  'react-three-fiber',\n",
              "  'Babylon.js',\n",
              "  'tinyrenderer',\n",
              "  'aframe',\n",
              "  '3d-game-shaders-for-beginners',\n",
              "  'FreeCAD',\n",
              "  'zdog',\n",
              "  'cesium',\n",
              "  '3D-Machine-Learning',\n",
              "  'Open3D',\n",
              "  'SpaceshipGenerator',\n",
              "  'blender',\n",
              "  'BlenderGIS',\n",
              "  'spritejs',\n",
              "  'openscad',\n",
              "  'tensorspace',\n",
              "  'webglstudio.js',\n",
              "  'PRNet'],\n",
              " 'stars': [84700,\n",
              "  20400,\n",
              "  19300,\n",
              "  18200,\n",
              "  14500,\n",
              "  14500,\n",
              "  13600,\n",
              "  12000,\n",
              "  9300,\n",
              "  9100,\n",
              "  8300,\n",
              "  7300,\n",
              "  7200,\n",
              "  6400,\n",
              "  5500,\n",
              "  5000,\n",
              "  5000,\n",
              "  4700,\n",
              "  4700,\n",
              "  4700],\n",
              " 'repo_url': ['https://github.com/mrdoob/three.js',\n",
              "  'https://github.com/libgdx/libgdx',\n",
              "  'https://github.com/pmndrs/react-three-fiber',\n",
              "  'https://github.com/BabylonJS/Babylon.js',\n",
              "  'https://github.com/ssloy/tinyrenderer',\n",
              "  'https://github.com/aframevr/aframe',\n",
              "  'https://github.com/lettier/3d-game-shaders-for-beginners',\n",
              "  'https://github.com/FreeCAD/FreeCAD',\n",
              "  'https://github.com/metafizzy/zdog',\n",
              "  'https://github.com/CesiumGS/cesium',\n",
              "  'https://github.com/timzhang642/3D-Machine-Learning',\n",
              "  'https://github.com/isl-org/Open3D',\n",
              "  'https://github.com/a1studmuffin/SpaceshipGenerator',\n",
              "  'https://github.com/blender/blender',\n",
              "  'https://github.com/domlysz/BlenderGIS',\n",
              "  'https://github.com/spritejs/spritejs',\n",
              "  'https://github.com/openscad/openscad',\n",
              "  'https://github.com/tensorspace-team/tensorspace',\n",
              "  'https://github.com/jagenjo/webglstudio.js',\n",
              "  'https://github.com/YadiraF/PRNet']}"
            ]
          },
          "metadata": {},
          "execution_count": 282
        }
      ]
    },
    {
      "cell_type": "markdown",
      "source": [
        "Final Code"
      ],
      "metadata": {
        "id": "NLdhJYJVMjH3"
      }
    },
    {
      "cell_type": "code",
      "source": [
        "import os\n",
        "\n",
        "def get_topic_page(topic_url):\n",
        "    #download the page\n",
        "  response = requests.get(topic_url)\n",
        "  #check successful response\n",
        "  if response.status_code !=200:\n",
        "    raise Exception('Failed to load page{}'.format(topic_url))\n",
        "  #Parse using Beautiful Soup\n",
        "  topic_doc = BeautifulSoup(response.text, 'html.parser')\n",
        "  return topic_doc\n",
        "\n",
        "def get_repo_info(h3_tag, star_tag):\n",
        "  #returns all the required info about a repository\n",
        "  a_tags=h3_tag.find_all('a')\n",
        "  username= a_tags[0].text.strip()\n",
        "  repo_name= a_tags[1].text.strip()\n",
        "  repo_url = base_url+a_tags[1]['href']\n",
        "  stars= parse_star_count(star_tag.text.strip())\n",
        "  return username, repo_name, stars,repo_url\n",
        "\n",
        "def get_topic_repos(topic_doc):\n",
        "  #Get the h3 tags containing repo title,Url and username\n",
        "  h3_selection_class ='f3 color-fg-muted text-normal lh-condensed'\n",
        "  repo_tags=topic_doc.find_all('h3',{'class' :h3_selection_class})\n",
        "  #get star tags\n",
        "  star_tags=topic_doc.find_all('span',{'class':'Counter js-social-count'})\n",
        "\n",
        "  topic_repos_dict = {\n",
        "    'username' :[] ,\n",
        "    'repo_name' :[],\n",
        "    'stars' : [],\n",
        "    'repo_url' :[]    \n",
        "  }  \n",
        " \n",
        "  #get repo info\n",
        "  for i in range(len(repo_tags)):\n",
        "   repo_info =get_repo_info(repo_tags[i], star_tags[i])\n",
        "   topic_repos_dict['username'].append(repo_info[0])\n",
        "   topic_repos_dict['repo_name'].append(repo_info[1])\n",
        "   topic_repos_dict['stars'].append(repo_info[2])\n",
        "   topic_repos_dict['repo_url'].append(repo_info[3])\n",
        "\n",
        "  return pd.DataFrame(topic_repos_dict)\n",
        "\n",
        "def scrape_topic(topic_url, path):\n",
        "  \n",
        "  if os.path.exists(path):\n",
        "    print(\"The file {} already exists.Skipping...\".format(path))\n",
        "    return\n",
        "  topic_df=get_topic_repos(get_topic_page(topic_url))\n",
        "  topic_df.to_csv(path, index=None)"
      ],
      "metadata": {
        "id": "3VA33Q_PqRkr"
      },
      "execution_count": 283,
      "outputs": []
    },
    {
      "cell_type": "markdown",
      "source": [
        "Write a single function to:\n",
        "\n",
        "1. Get the list of topics from topics page\n",
        "\n",
        "2. Get the list of top repos from the individual topic repos\n",
        "\n",
        "3. For each topic, create a CSV of the top repos for the topic"
      ],
      "metadata": {
        "id": "74_VkM-73DNP"
      }
    },
    {
      "cell_type": "code",
      "source": [
        "topics_url"
      ],
      "metadata": {
        "colab": {
          "base_uri": "https://localhost:8080/",
          "height": 36
        },
        "id": "3fKiUkV1CCd_",
        "outputId": "3ce530e2-ac42-4b9a-87f8-9271806fa4d2"
      },
      "execution_count": 284,
      "outputs": [
        {
          "output_type": "execute_result",
          "data": {
            "text/plain": [
              "'https://github.com/topics'"
            ],
            "application/vnd.google.colaboratory.intrinsic+json": {
              "type": "string"
            }
          },
          "metadata": {},
          "execution_count": 284
        }
      ]
    },
    {
      "cell_type": "code",
      "source": [
        "def get_topic_titles(doc):\n",
        "    selection_class = 'f3 lh-condensed mb-0 mt-1 Link--primary'\n",
        "    topic_title_tags =doc.find_all('p',{'class' :selection_class})\n",
        "    topic_titles = []\n",
        "    for tag in topic_title_tags :\n",
        "        topic_titles.append(tag.text)\n",
        "    return topic_titles\n",
        "def get_topic_descs(doc):\n",
        "    desc_selector ='f5 color-fg-muted mb-0 mt-1'\n",
        "    topic_desc_tags =doc.find_all('p', {'class' :desc_selector})\n",
        "    topic_descs = []\n",
        "    for tag in topic_desc_tags:\n",
        "        topic_descs.append(tag.text.strip())\n",
        "    return topic_descs\n",
        "def get_topic_urls(doc):\n",
        "    topic_link_tags =doc.find_all('a', {'class':'no-underline flex-1 d-flex flex-column'})\n",
        "    topic_urls = []\n",
        "    base_url ='https://github.com'\n",
        "    for tag in topic_link_tags:\n",
        "        topic_urls.append(base_url +tag['href'])\n",
        "    return topic_urls\n",
        "def scrape_topics():\n",
        "   topics_url = 'https://github.com/topics'\n",
        "   response = requests.get(topics_url)\n",
        "   if response.status_code !=200:\n",
        "    raise Exception('Failed to load page{}'.format(topic_url))\n",
        "   topics_dict = {\n",
        "       'title':get_topic_titles(doc),\n",
        "       'description': get_topic_descs(doc),\n",
        "       'url': get_topic_urls(doc)\n",
        "   }\n",
        "   return pd.DataFrame(topics_dict)"
      ],
      "metadata": {
        "id": "jSA_hhmrxnTJ"
      },
      "execution_count": 285,
      "outputs": []
    },
    {
      "cell_type": "code",
      "source": [
        "def scrape_topics_repos():\n",
        "  print('Scraping list of topics')\n",
        "  topics_df = scrape_topics()\n",
        "  \n",
        "  os.makedirs('data', exist_ok=True)\n",
        "\n",
        "  for index, row in topics_df.iterrows():\n",
        "    print('scraping top repositories for \"{}\"'.format(row['title']))\n",
        "    scrape_topic (row['url'], 'data/{}.csv'.format(row['title']))"
      ],
      "metadata": {
        "id": "AJknbgF-5QwY"
      },
      "execution_count": 286,
      "outputs": []
    },
    {
      "cell_type": "code",
      "source": [
        "scrape_topics_repos()"
      ],
      "metadata": {
        "colab": {
          "base_uri": "https://localhost:8080/"
        },
        "id": "BkSqLyEeCq6j",
        "outputId": "ebca7b72-0f58-40f1-9718-9b9dabec1b87"
      },
      "execution_count": 287,
      "outputs": [
        {
          "output_type": "stream",
          "name": "stdout",
          "text": [
            "Scraping list of topics\n",
            "scraping top repositories for \"3D\"\n",
            "The file data/3D.csv already exists.Skipping...\n",
            "scraping top repositories for \"Ajax\"\n",
            "The file data/Ajax.csv already exists.Skipping...\n",
            "scraping top repositories for \"Algorithm\"\n",
            "The file data/Algorithm.csv already exists.Skipping...\n",
            "scraping top repositories for \"Amp\"\n",
            "The file data/Amp.csv already exists.Skipping...\n",
            "scraping top repositories for \"Android\"\n",
            "The file data/Android.csv already exists.Skipping...\n",
            "scraping top repositories for \"Angular\"\n",
            "The file data/Angular.csv already exists.Skipping...\n",
            "scraping top repositories for \"Ansible\"\n",
            "The file data/Ansible.csv already exists.Skipping...\n",
            "scraping top repositories for \"API\"\n",
            "The file data/API.csv already exists.Skipping...\n",
            "scraping top repositories for \"Arduino\"\n",
            "The file data/Arduino.csv already exists.Skipping...\n",
            "scraping top repositories for \"ASP.NET\"\n",
            "The file data/ASP.NET.csv already exists.Skipping...\n",
            "scraping top repositories for \"Atom\"\n",
            "The file data/Atom.csv already exists.Skipping...\n",
            "scraping top repositories for \"Awesome Lists\"\n",
            "The file data/Awesome Lists.csv already exists.Skipping...\n",
            "scraping top repositories for \"Amazon Web Services\"\n",
            "The file data/Amazon Web Services.csv already exists.Skipping...\n",
            "scraping top repositories for \"Azure\"\n",
            "The file data/Azure.csv already exists.Skipping...\n",
            "scraping top repositories for \"Babel\"\n",
            "The file data/Babel.csv already exists.Skipping...\n",
            "scraping top repositories for \"Bash\"\n",
            "The file data/Bash.csv already exists.Skipping...\n",
            "scraping top repositories for \"Bitcoin\"\n",
            "The file data/Bitcoin.csv already exists.Skipping...\n",
            "scraping top repositories for \"Bootstrap\"\n",
            "The file data/Bootstrap.csv already exists.Skipping...\n",
            "scraping top repositories for \"Bot\"\n",
            "The file data/Bot.csv already exists.Skipping...\n",
            "scraping top repositories for \"C\"\n",
            "The file data/C.csv already exists.Skipping...\n",
            "scraping top repositories for \"Chrome\"\n",
            "The file data/Chrome.csv already exists.Skipping...\n",
            "scraping top repositories for \"Chrome extension\"\n",
            "The file data/Chrome extension.csv already exists.Skipping...\n",
            "scraping top repositories for \"Command line interface\"\n",
            "The file data/Command line interface.csv already exists.Skipping...\n",
            "scraping top repositories for \"Clojure\"\n",
            "The file data/Clojure.csv already exists.Skipping...\n",
            "scraping top repositories for \"Code quality\"\n",
            "The file data/Code quality.csv already exists.Skipping...\n",
            "scraping top repositories for \"Code review\"\n",
            "The file data/Code review.csv already exists.Skipping...\n",
            "scraping top repositories for \"Compiler\"\n",
            "The file data/Compiler.csv already exists.Skipping...\n",
            "scraping top repositories for \"Continuous integration\"\n",
            "The file data/Continuous integration.csv already exists.Skipping...\n",
            "scraping top repositories for \"COVID-19\"\n",
            "The file data/COVID-19.csv already exists.Skipping...\n",
            "scraping top repositories for \"C++\"\n",
            "The file data/C++.csv already exists.Skipping...\n"
          ]
        }
      ]
    },
    {
      "cell_type": "code",
      "source": [
        "import jovian"
      ],
      "metadata": {
        "id": "MQmHGzZFCq2-"
      },
      "execution_count": 288,
      "outputs": []
    },
    {
      "cell_type": "code",
      "source": [
        "jovian.commit()"
      ],
      "metadata": {
        "id": "iAHqmJufSzcn",
        "colab": {
          "base_uri": "https://localhost:8080/",
          "height": 105
        },
        "outputId": "ac99b05b-17ca-40ec-9cf4-a5a2577837b9"
      },
      "execution_count": 293,
      "outputs": [
        {
          "output_type": "stream",
          "name": "stdout",
          "text": [
            "[jovian] Detected Colab notebook...\u001b[0m\n",
            "[jovian] Uploading colab notebook to Jovian...\u001b[0m\n"
          ]
        },
        {
          "output_type": "stream",
          "name": "stderr",
          "text": [
            "\u001b[31m[jovian] Error: Looks like the notebook is missing output cells, please save the notebook and try jovian.commit again.\u001b[0m\n"
          ]
        },
        {
          "output_type": "stream",
          "name": "stdout",
          "text": [
            "Committed successfully! https://jovian.ai/navyagudise2000/scraping-github-topics-repositories\n"
          ]
        },
        {
          "output_type": "execute_result",
          "data": {
            "text/plain": [
              "'https://jovian.ai/navyagudise2000/scraping-github-topics-repositories'"
            ],
            "application/vnd.google.colaboratory.intrinsic+json": {
              "type": "string"
            }
          },
          "metadata": {},
          "execution_count": 293
        }
      ]
    }
  ],
  "metadata": {
    "kernelspec": {
      "display_name": "Python 3",
      "language": "python",
      "name": "python3"
    },
    "language_info": {
      "codemirror_mode": {
        "name": "ipython",
        "version": 3
      },
      "file_extension": ".py",
      "mimetype": "text/x-python",
      "name": "python",
      "nbconvert_exporter": "python",
      "pygments_lexer": "ipython3",
      "version": "3.7.6"
    },
    "colab": {
      "name": "scraping-github-topics-repositories.ipynb",
      "provenance": [],
      "collapsed_sections": []
    }
  },
  "nbformat": 4,
  "nbformat_minor": 0
}